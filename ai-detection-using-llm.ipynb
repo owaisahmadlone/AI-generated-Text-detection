{
 "cells": [
  {
   "cell_type": "code",
   "execution_count": 1,
   "id": "7bb44992",
   "metadata": {
    "_cell_guid": "b1076dfc-b9ad-4769-8c92-a6c4dae69d19",
    "_uuid": "8f2839f25d086af736a60e9eeb907d3b93b6e0e5",
    "execution": {
     "iopub.execute_input": "2023-12-24T19:57:09.714216Z",
     "iopub.status.busy": "2023-12-24T19:57:09.713894Z",
     "iopub.status.idle": "2023-12-24T19:57:10.434547Z",
     "shell.execute_reply": "2023-12-24T19:57:10.433582Z"
    },
    "papermill": {
     "duration": 0.732048,
     "end_time": "2023-12-24T19:57:10.436891",
     "exception": false,
     "start_time": "2023-12-24T19:57:09.704843",
     "status": "completed"
    },
    "tags": []
   },
   "outputs": [
    {
     "name": "stdout",
     "output_type": "stream",
     "text": [
      "/kaggle/input/model-finetuned/finetuned_model/config.json\n",
      "/kaggle/input/model-finetuned/finetuned_model/model.safetensors\n",
      "/kaggle/input/model-finetuned/finetuned_model/checkpoint-13000/config.json\n",
      "/kaggle/input/model-finetuned/finetuned_model/checkpoint-13000/trainer_state.json\n",
      "/kaggle/input/model-finetuned/finetuned_model/checkpoint-13000/training_args.bin\n",
      "/kaggle/input/model-finetuned/finetuned_model/checkpoint-13000/scheduler.pt\n",
      "/kaggle/input/model-finetuned/finetuned_model/checkpoint-13000/model.safetensors\n",
      "/kaggle/input/model-finetuned/finetuned_model/checkpoint-13000/optimizer.pt\n",
      "/kaggle/input/model-finetuned/finetuned_model/checkpoint-13000/rng_state.pth\n",
      "/kaggle/input/model-finetuned/finetuned_model/checkpoint-12500/config.json\n",
      "/kaggle/input/model-finetuned/finetuned_model/checkpoint-12500/trainer_state.json\n",
      "/kaggle/input/model-finetuned/finetuned_model/checkpoint-12500/training_args.bin\n",
      "/kaggle/input/model-finetuned/finetuned_model/checkpoint-12500/scheduler.pt\n",
      "/kaggle/input/model-finetuned/finetuned_model/checkpoint-12500/model.safetensors\n",
      "/kaggle/input/model-finetuned/finetuned_model/checkpoint-12500/optimizer.pt\n",
      "/kaggle/input/model-finetuned/finetuned_model/checkpoint-12500/rng_state.pth\n",
      "/kaggle/input/llm-detect-ai-generated-text/sample_submission.csv\n",
      "/kaggle/input/llm-detect-ai-generated-text/train_prompts.csv\n",
      "/kaggle/input/llm-detect-ai-generated-text/test_essays.csv\n",
      "/kaggle/input/llm-detect-ai-generated-text/train_essays.csv\n",
      "/kaggle/input/tokenizer/tokenizer/tokenizer.json\n",
      "/kaggle/input/tokenizer/tokenizer/tokenizer_config.json\n",
      "/kaggle/input/tokenizer/tokenizer/special_tokens_map.json\n",
      "/kaggle/input/daigt-one-place-all-data/concatenated.csv\n",
      "/kaggle/input/daigt-v2-train-dataset/train_v2_drcat_02.csv\n"
     ]
    }
   ],
   "source": [
    "# This Python 3 environment comes with many helpful analytics libraries installed\n",
    "# It is defined by the kaggle/python Docker image: https://github.com/kaggle/docker-python\n",
    "# For example, here's several helpful packages to load\n",
    "\n",
    "import numpy as np # linear algebra\n",
    "import pandas as pd # data processing, CSV file I/O (e.g. pd.read_csv)\n",
    "\n",
    "# Input data files are available in the read-only \"../input/\" directory\n",
    "# For example, running this (by clicking run or pressing Shift+Enter) will list all files under the input directory\n",
    "\n",
    "import os\n",
    "for dirname, _, filenames in os.walk('/kaggle/input'):\n",
    "    for filename in filenames:\n",
    "        print(os.path.join(dirname, filename))\n",
    "\n",
    "# You can write up to 20GB to the current directory (/kaggle/working/) that gets preserved as output when you create a version using \"Save & Run All\" \n",
    "# You can also write temporary files to /kaggle/temp/, but they won't be saved outside of the current session"
   ]
  },
  {
   "cell_type": "code",
   "execution_count": 2,
   "id": "eee697ad",
   "metadata": {
    "execution": {
     "iopub.execute_input": "2023-12-24T19:57:10.453743Z",
     "iopub.status.busy": "2023-12-24T19:57:10.453279Z",
     "iopub.status.idle": "2023-12-24T19:57:43.140416Z",
     "shell.execute_reply": "2023-12-24T19:57:43.139339Z"
    },
    "papermill": {
     "duration": 32.698162,
     "end_time": "2023-12-24T19:57:43.142954",
     "exception": false,
     "start_time": "2023-12-24T19:57:10.444792",
     "status": "completed"
    },
    "tags": []
   },
   "outputs": [
    {
     "name": "stdout",
     "output_type": "stream",
     "text": [
      "Requirement already satisfied: transformers in /opt/conda/lib/python3.10/site-packages (4.36.0)\r\n",
      "Requirement already satisfied: torch in /opt/conda/lib/python3.10/site-packages (2.0.0)\r\n",
      "Requirement already satisfied: filelock in /opt/conda/lib/python3.10/site-packages (from transformers) (3.12.2)\r\n",
      "Requirement already satisfied: huggingface-hub<1.0,>=0.19.3 in /opt/conda/lib/python3.10/site-packages (from transformers) (0.19.4)\r\n",
      "Requirement already satisfied: numpy>=1.17 in /opt/conda/lib/python3.10/site-packages (from transformers) (1.24.3)\r\n",
      "Requirement already satisfied: packaging>=20.0 in /opt/conda/lib/python3.10/site-packages (from transformers) (21.3)\r\n",
      "Requirement already satisfied: pyyaml>=5.1 in /opt/conda/lib/python3.10/site-packages (from transformers) (6.0.1)\r\n",
      "Requirement already satisfied: regex!=2019.12.17 in /opt/conda/lib/python3.10/site-packages (from transformers) (2023.8.8)\r\n",
      "Requirement already satisfied: requests in /opt/conda/lib/python3.10/site-packages (from transformers) (2.31.0)\r\n",
      "Requirement already satisfied: tokenizers<0.19,>=0.14 in /opt/conda/lib/python3.10/site-packages (from transformers) (0.15.0)\r\n",
      "Requirement already satisfied: safetensors>=0.3.1 in /opt/conda/lib/python3.10/site-packages (from transformers) (0.4.1)\r\n",
      "Requirement already satisfied: tqdm>=4.27 in /opt/conda/lib/python3.10/site-packages (from transformers) (4.66.1)\r\n",
      "Requirement already satisfied: typing-extensions in /opt/conda/lib/python3.10/site-packages (from torch) (4.5.0)\r\n",
      "Requirement already satisfied: sympy in /opt/conda/lib/python3.10/site-packages (from torch) (1.12)\r\n",
      "Requirement already satisfied: networkx in /opt/conda/lib/python3.10/site-packages (from torch) (3.1)\r\n",
      "Requirement already satisfied: jinja2 in /opt/conda/lib/python3.10/site-packages (from torch) (3.1.2)\r\n",
      "Requirement already satisfied: fsspec>=2023.5.0 in /opt/conda/lib/python3.10/site-packages (from huggingface-hub<1.0,>=0.19.3->transformers) (2023.12.2)\r\n",
      "Requirement already satisfied: pyparsing!=3.0.5,>=2.0.2 in /opt/conda/lib/python3.10/site-packages (from packaging>=20.0->transformers) (3.0.9)\r\n",
      "Requirement already satisfied: MarkupSafe>=2.0 in /opt/conda/lib/python3.10/site-packages (from jinja2->torch) (2.1.3)\r\n",
      "Requirement already satisfied: charset-normalizer<4,>=2 in /opt/conda/lib/python3.10/site-packages (from requests->transformers) (3.2.0)\r\n",
      "Requirement already satisfied: idna<4,>=2.5 in /opt/conda/lib/python3.10/site-packages (from requests->transformers) (3.4)\r\n",
      "Requirement already satisfied: urllib3<3,>=1.21.1 in /opt/conda/lib/python3.10/site-packages (from requests->transformers) (1.26.15)\r\n",
      "Requirement already satisfied: certifi>=2017.4.17 in /opt/conda/lib/python3.10/site-packages (from requests->transformers) (2023.11.17)\r\n",
      "Requirement already satisfied: mpmath>=0.19 in /opt/conda/lib/python3.10/site-packages (from sympy->torch) (1.3.0)\r\n"
     ]
    }
   ],
   "source": [
    "!pip install transformers torch"
   ]
  },
  {
   "cell_type": "code",
   "execution_count": 3,
   "id": "8b5b8e98",
   "metadata": {
    "execution": {
     "iopub.execute_input": "2023-12-24T19:57:43.160781Z",
     "iopub.status.busy": "2023-12-24T19:57:43.160457Z",
     "iopub.status.idle": "2023-12-24T20:00:22.599448Z",
     "shell.execute_reply": "2023-12-24T20:00:22.598284Z"
    },
    "papermill": {
     "duration": 159.450894,
     "end_time": "2023-12-24T20:00:22.602151",
     "exception": false,
     "start_time": "2023-12-24T19:57:43.151257",
     "status": "completed"
    },
    "tags": []
   },
   "outputs": [
    {
     "name": "stdout",
     "output_type": "stream",
     "text": [
      "Requirement already satisfied: accelerate in /opt/conda/lib/python3.10/site-packages (0.25.0)\r\n",
      "\u001b[33mWARNING: Retrying (Retry(total=4, connect=None, read=None, redirect=None, status=None)) after connection broken by 'NewConnectionError('<pip._vendor.urllib3.connection.HTTPSConnection object at 0x7f842c39f250>: Failed to establish a new connection: [Errno -3] Temporary failure in name resolution')': /simple/accelerate/\u001b[0m\u001b[33m\r\n",
      "\u001b[0m\u001b[33mWARNING: Retrying (Retry(total=3, connect=None, read=None, redirect=None, status=None)) after connection broken by 'NewConnectionError('<pip._vendor.urllib3.connection.HTTPSConnection object at 0x7f842c39f550>: Failed to establish a new connection: [Errno -3] Temporary failure in name resolution')': /simple/accelerate/\u001b[0m\u001b[33m\r\n",
      "\u001b[0m\u001b[33mWARNING: Retrying (Retry(total=2, connect=None, read=None, redirect=None, status=None)) after connection broken by 'NewConnectionError('<pip._vendor.urllib3.connection.HTTPSConnection object at 0x7f842c39f700>: Failed to establish a new connection: [Errno -3] Temporary failure in name resolution')': /simple/accelerate/\u001b[0m\u001b[33m\r\n",
      "\u001b[0m\u001b[33mWARNING: Retrying (Retry(total=1, connect=None, read=None, redirect=None, status=None)) after connection broken by 'NewConnectionError('<pip._vendor.urllib3.connection.HTTPSConnection object at 0x7f842c39f8b0>: Failed to establish a new connection: [Errno -3] Temporary failure in name resolution')': /simple/accelerate/\u001b[0m\u001b[33m\r\n",
      "\u001b[0m\u001b[33mWARNING: Retrying (Retry(total=0, connect=None, read=None, redirect=None, status=None)) after connection broken by 'NewConnectionError('<pip._vendor.urllib3.connection.HTTPSConnection object at 0x7f842c39fa60>: Failed to establish a new connection: [Errno -3] Temporary failure in name resolution')': /simple/accelerate/\u001b[0m\u001b[33m\r\n",
      "\u001b[0mRequirement already satisfied: numpy>=1.17 in /opt/conda/lib/python3.10/site-packages (from accelerate) (1.24.3)\r\n",
      "Requirement already satisfied: packaging>=20.0 in /opt/conda/lib/python3.10/site-packages (from accelerate) (21.3)\r\n",
      "Requirement already satisfied: psutil in /opt/conda/lib/python3.10/site-packages (from accelerate) (5.9.3)\r\n",
      "Requirement already satisfied: pyyaml in /opt/conda/lib/python3.10/site-packages (from accelerate) (6.0.1)\r\n",
      "Requirement already satisfied: torch>=1.10.0 in /opt/conda/lib/python3.10/site-packages (from accelerate) (2.0.0)\r\n",
      "Requirement already satisfied: huggingface-hub in /opt/conda/lib/python3.10/site-packages (from accelerate) (0.19.4)\r\n",
      "Requirement already satisfied: safetensors>=0.3.1 in /opt/conda/lib/python3.10/site-packages (from accelerate) (0.4.1)\r\n",
      "Requirement already satisfied: pyparsing!=3.0.5,>=2.0.2 in /opt/conda/lib/python3.10/site-packages (from packaging>=20.0->accelerate) (3.0.9)\r\n",
      "Requirement already satisfied: filelock in /opt/conda/lib/python3.10/site-packages (from torch>=1.10.0->accelerate) (3.12.2)\r\n",
      "Requirement already satisfied: typing-extensions in /opt/conda/lib/python3.10/site-packages (from torch>=1.10.0->accelerate) (4.5.0)\r\n",
      "Requirement already satisfied: sympy in /opt/conda/lib/python3.10/site-packages (from torch>=1.10.0->accelerate) (1.12)\r\n",
      "Requirement already satisfied: networkx in /opt/conda/lib/python3.10/site-packages (from torch>=1.10.0->accelerate) (3.1)\r\n",
      "Requirement already satisfied: jinja2 in /opt/conda/lib/python3.10/site-packages (from torch>=1.10.0->accelerate) (3.1.2)\r\n",
      "Requirement already satisfied: fsspec>=2023.5.0 in /opt/conda/lib/python3.10/site-packages (from huggingface-hub->accelerate) (2023.12.2)\r\n",
      "Requirement already satisfied: requests in /opt/conda/lib/python3.10/site-packages (from huggingface-hub->accelerate) (2.31.0)\r\n",
      "Requirement already satisfied: tqdm>=4.42.1 in /opt/conda/lib/python3.10/site-packages (from huggingface-hub->accelerate) (4.66.1)\r\n",
      "Requirement already satisfied: MarkupSafe>=2.0 in /opt/conda/lib/python3.10/site-packages (from jinja2->torch>=1.10.0->accelerate) (2.1.3)\r\n",
      "Requirement already satisfied: charset-normalizer<4,>=2 in /opt/conda/lib/python3.10/site-packages (from requests->huggingface-hub->accelerate) (3.2.0)\r\n",
      "Requirement already satisfied: idna<4,>=2.5 in /opt/conda/lib/python3.10/site-packages (from requests->huggingface-hub->accelerate) (3.4)\r\n",
      "Requirement already satisfied: urllib3<3,>=1.21.1 in /opt/conda/lib/python3.10/site-packages (from requests->huggingface-hub->accelerate) (1.26.15)\r\n",
      "Requirement already satisfied: certifi>=2017.4.17 in /opt/conda/lib/python3.10/site-packages (from requests->huggingface-hub->accelerate) (2023.11.17)\r\n",
      "Requirement already satisfied: mpmath>=0.19 in /opt/conda/lib/python3.10/site-packages (from sympy->torch>=1.10.0->accelerate) (1.3.0)\r\n"
     ]
    }
   ],
   "source": [
    "!pip install accelerate -U"
   ]
  },
  {
   "cell_type": "code",
   "execution_count": 4,
   "id": "d018d42c",
   "metadata": {
    "execution": {
     "iopub.execute_input": "2023-12-24T20:00:22.622021Z",
     "iopub.status.busy": "2023-12-24T20:00:22.621643Z",
     "iopub.status.idle": "2023-12-24T20:00:25.298255Z",
     "shell.execute_reply": "2023-12-24T20:00:25.297314Z"
    },
    "papermill": {
     "duration": 2.689843,
     "end_time": "2023-12-24T20:00:25.301268",
     "exception": false,
     "start_time": "2023-12-24T20:00:22.611425",
     "status": "completed"
    },
    "tags": []
   },
   "outputs": [],
   "source": [
    "import pandas as pd\n",
    "test = pd.read_csv('/kaggle/input/llm-detect-ai-generated-text/test_essays.csv')\n",
    "sub = pd.read_csv('/kaggle/input/llm-detect-ai-generated-text/sample_submission.csv')\n",
    "train = pd.read_csv(\"/kaggle/input/daigt-one-place-all-data/concatenated.csv\", sep=',')\n",
    "val = pd.read_csv('/kaggle/input/llm-detect-ai-generated-text/train_essays.csv')"
   ]
  },
  {
   "cell_type": "code",
   "execution_count": 5,
   "id": "2f7427bc",
   "metadata": {
    "execution": {
     "iopub.execute_input": "2023-12-24T20:00:25.320945Z",
     "iopub.status.busy": "2023-12-24T20:00:25.320633Z",
     "iopub.status.idle": "2023-12-24T20:00:25.414886Z",
     "shell.execute_reply": "2023-12-24T20:00:25.414134Z"
    },
    "papermill": {
     "duration": 0.106016,
     "end_time": "2023-12-24T20:00:25.416843",
     "exception": false,
     "start_time": "2023-12-24T20:00:25.310827",
     "status": "completed"
    },
    "tags": []
   },
   "outputs": [],
   "source": [
    "train = train.drop_duplicates(subset=['text'])\n",
    "train.reset_index(drop=True, inplace=True)"
   ]
  },
  {
   "cell_type": "code",
   "execution_count": 6,
   "id": "dc3ea9e9",
   "metadata": {
    "execution": {
     "iopub.execute_input": "2023-12-24T20:00:25.435799Z",
     "iopub.status.busy": "2023-12-24T20:00:25.435483Z",
     "iopub.status.idle": "2023-12-24T20:00:25.442892Z",
     "shell.execute_reply": "2023-12-24T20:00:25.442048Z"
    },
    "papermill": {
     "duration": 0.018954,
     "end_time": "2023-12-24T20:00:25.444770",
     "exception": false,
     "start_time": "2023-12-24T20:00:25.425816",
     "status": "completed"
    },
    "tags": []
   },
   "outputs": [],
   "source": [
    "val = val.drop_duplicates(subset=['text'])\n",
    "val.reset_index(drop=True, inplace=True)"
   ]
  },
  {
   "cell_type": "code",
   "execution_count": 7,
   "id": "e87dd06b",
   "metadata": {
    "execution": {
     "iopub.execute_input": "2023-12-24T20:00:25.463736Z",
     "iopub.status.busy": "2023-12-24T20:00:25.463429Z",
     "iopub.status.idle": "2023-12-24T20:00:25.478543Z",
     "shell.execute_reply": "2023-12-24T20:00:25.477754Z"
    },
    "papermill": {
     "duration": 0.027067,
     "end_time": "2023-12-24T20:00:25.480417",
     "exception": false,
     "start_time": "2023-12-24T20:00:25.453350",
     "status": "completed"
    },
    "tags": []
   },
   "outputs": [
    {
     "data": {
      "text/html": [
       "<div>\n",
       "<style scoped>\n",
       "    .dataframe tbody tr th:only-of-type {\n",
       "        vertical-align: middle;\n",
       "    }\n",
       "\n",
       "    .dataframe tbody tr th {\n",
       "        vertical-align: top;\n",
       "    }\n",
       "\n",
       "    .dataframe thead th {\n",
       "        text-align: right;\n",
       "    }\n",
       "</style>\n",
       "<table border=\"1\" class=\"dataframe\">\n",
       "  <thead>\n",
       "    <tr style=\"text-align: right;\">\n",
       "      <th></th>\n",
       "      <th>id</th>\n",
       "      <th>prompt_id</th>\n",
       "      <th>text</th>\n",
       "      <th>generated</th>\n",
       "      <th>model</th>\n",
       "      <th>kaggle_repo</th>\n",
       "    </tr>\n",
       "  </thead>\n",
       "  <tbody>\n",
       "    <tr>\n",
       "      <th>0</th>\n",
       "      <td>d429f032</td>\n",
       "      <td>0</td>\n",
       "      <td>Advantages of Limiting Car Usage \\n\\nLimiting ...</td>\n",
       "      <td>1</td>\n",
       "      <td>gpt-3.5-turbo</td>\n",
       "      <td>1</td>\n",
       "    </tr>\n",
       "    <tr>\n",
       "      <th>1</th>\n",
       "      <td>1ce279be</td>\n",
       "      <td>0</td>\n",
       "      <td>Advantages of Limiting Car Usage\\n\\nLimiting c...</td>\n",
       "      <td>1</td>\n",
       "      <td>gpt-3.5-turbo</td>\n",
       "      <td>1</td>\n",
       "    </tr>\n",
       "    <tr>\n",
       "      <th>2</th>\n",
       "      <td>c9595213</td>\n",
       "      <td>0</td>\n",
       "      <td>Limiting car usage has numerous advantages tha...</td>\n",
       "      <td>1</td>\n",
       "      <td>gpt-3.5-turbo</td>\n",
       "      <td>1</td>\n",
       "    </tr>\n",
       "    <tr>\n",
       "      <th>3</th>\n",
       "      <td>f2266d87</td>\n",
       "      <td>0</td>\n",
       "      <td>The passages provided discuss the advantages o...</td>\n",
       "      <td>1</td>\n",
       "      <td>gpt-3.5-turbo</td>\n",
       "      <td>1</td>\n",
       "    </tr>\n",
       "    <tr>\n",
       "      <th>4</th>\n",
       "      <td>eeace4bd</td>\n",
       "      <td>0</td>\n",
       "      <td>Title: The Advantages of Limiting Car Usage\\n\\...</td>\n",
       "      <td>1</td>\n",
       "      <td>gpt-3.5-turbo</td>\n",
       "      <td>1</td>\n",
       "    </tr>\n",
       "  </tbody>\n",
       "</table>\n",
       "</div>"
      ],
      "text/plain": [
       "         id prompt_id                                               text  \\\n",
       "0  d429f032         0  Advantages of Limiting Car Usage \\n\\nLimiting ...   \n",
       "1  1ce279be         0  Advantages of Limiting Car Usage\\n\\nLimiting c...   \n",
       "2  c9595213         0  Limiting car usage has numerous advantages tha...   \n",
       "3  f2266d87         0  The passages provided discuss the advantages o...   \n",
       "4  eeace4bd         0  Title: The Advantages of Limiting Car Usage\\n\\...   \n",
       "\n",
       "   generated          model  kaggle_repo  \n",
       "0          1  gpt-3.5-turbo            1  \n",
       "1          1  gpt-3.5-turbo            1  \n",
       "2          1  gpt-3.5-turbo            1  \n",
       "3          1  gpt-3.5-turbo            1  \n",
       "4          1  gpt-3.5-turbo            1  "
      ]
     },
     "execution_count": 7,
     "metadata": {},
     "output_type": "execute_result"
    }
   ],
   "source": [
    "train.head()"
   ]
  },
  {
   "cell_type": "code",
   "execution_count": 8,
   "id": "e5dbdee5",
   "metadata": {
    "execution": {
     "iopub.execute_input": "2023-12-24T20:00:25.499430Z",
     "iopub.status.busy": "2023-12-24T20:00:25.499154Z",
     "iopub.status.idle": "2023-12-24T20:00:25.504612Z",
     "shell.execute_reply": "2023-12-24T20:00:25.503819Z"
    },
    "papermill": {
     "duration": 0.01712,
     "end_time": "2023-12-24T20:00:25.506475",
     "exception": false,
     "start_time": "2023-12-24T20:00:25.489355",
     "status": "completed"
    },
    "tags": []
   },
   "outputs": [
    {
     "data": {
      "text/plain": [
       "(53729, 6)"
      ]
     },
     "execution_count": 8,
     "metadata": {},
     "output_type": "execute_result"
    }
   ],
   "source": [
    "train.shape"
   ]
  },
  {
   "cell_type": "code",
   "execution_count": 9,
   "id": "c5850a0b",
   "metadata": {
    "execution": {
     "iopub.execute_input": "2023-12-24T20:00:25.526137Z",
     "iopub.status.busy": "2023-12-24T20:00:25.525594Z",
     "iopub.status.idle": "2023-12-24T20:00:25.533953Z",
     "shell.execute_reply": "2023-12-24T20:00:25.533110Z"
    },
    "papermill": {
     "duration": 0.020293,
     "end_time": "2023-12-24T20:00:25.535859",
     "exception": false,
     "start_time": "2023-12-24T20:00:25.515566",
     "status": "completed"
    },
    "tags": []
   },
   "outputs": [
    {
     "data": {
      "text/html": [
       "<div>\n",
       "<style scoped>\n",
       "    .dataframe tbody tr th:only-of-type {\n",
       "        vertical-align: middle;\n",
       "    }\n",
       "\n",
       "    .dataframe tbody tr th {\n",
       "        vertical-align: top;\n",
       "    }\n",
       "\n",
       "    .dataframe thead th {\n",
       "        text-align: right;\n",
       "    }\n",
       "</style>\n",
       "<table border=\"1\" class=\"dataframe\">\n",
       "  <thead>\n",
       "    <tr style=\"text-align: right;\">\n",
       "      <th></th>\n",
       "      <th>id</th>\n",
       "      <th>prompt_id</th>\n",
       "      <th>text</th>\n",
       "    </tr>\n",
       "  </thead>\n",
       "  <tbody>\n",
       "    <tr>\n",
       "      <th>0</th>\n",
       "      <td>0000aaaa</td>\n",
       "      <td>2</td>\n",
       "      <td>Aaa bbb ccc.</td>\n",
       "    </tr>\n",
       "    <tr>\n",
       "      <th>1</th>\n",
       "      <td>1111bbbb</td>\n",
       "      <td>3</td>\n",
       "      <td>Bbb ccc ddd.</td>\n",
       "    </tr>\n",
       "    <tr>\n",
       "      <th>2</th>\n",
       "      <td>2222cccc</td>\n",
       "      <td>4</td>\n",
       "      <td>CCC ddd eee.</td>\n",
       "    </tr>\n",
       "  </tbody>\n",
       "</table>\n",
       "</div>"
      ],
      "text/plain": [
       "         id  prompt_id          text\n",
       "0  0000aaaa          2  Aaa bbb ccc.\n",
       "1  1111bbbb          3  Bbb ccc ddd.\n",
       "2  2222cccc          4  CCC ddd eee."
      ]
     },
     "execution_count": 9,
     "metadata": {},
     "output_type": "execute_result"
    }
   ],
   "source": [
    "test.head()"
   ]
  },
  {
   "cell_type": "code",
   "execution_count": 10,
   "id": "5233c71a",
   "metadata": {
    "execution": {
     "iopub.execute_input": "2023-12-24T20:00:25.555463Z",
     "iopub.status.busy": "2023-12-24T20:00:25.555188Z",
     "iopub.status.idle": "2023-12-24T20:00:25.564088Z",
     "shell.execute_reply": "2023-12-24T20:00:25.563152Z"
    },
    "papermill": {
     "duration": 0.020858,
     "end_time": "2023-12-24T20:00:25.566034",
     "exception": false,
     "start_time": "2023-12-24T20:00:25.545176",
     "status": "completed"
    },
    "tags": []
   },
   "outputs": [
    {
     "data": {
      "text/html": [
       "<div>\n",
       "<style scoped>\n",
       "    .dataframe tbody tr th:only-of-type {\n",
       "        vertical-align: middle;\n",
       "    }\n",
       "\n",
       "    .dataframe tbody tr th {\n",
       "        vertical-align: top;\n",
       "    }\n",
       "\n",
       "    .dataframe thead th {\n",
       "        text-align: right;\n",
       "    }\n",
       "</style>\n",
       "<table border=\"1\" class=\"dataframe\">\n",
       "  <thead>\n",
       "    <tr style=\"text-align: right;\">\n",
       "      <th></th>\n",
       "      <th>id</th>\n",
       "      <th>prompt_id</th>\n",
       "      <th>text</th>\n",
       "      <th>generated</th>\n",
       "    </tr>\n",
       "  </thead>\n",
       "  <tbody>\n",
       "    <tr>\n",
       "      <th>0</th>\n",
       "      <td>0059830c</td>\n",
       "      <td>0</td>\n",
       "      <td>Cars. Cars have been around since they became ...</td>\n",
       "      <td>0</td>\n",
       "    </tr>\n",
       "    <tr>\n",
       "      <th>1</th>\n",
       "      <td>005db917</td>\n",
       "      <td>0</td>\n",
       "      <td>Transportation is a large necessity in most co...</td>\n",
       "      <td>0</td>\n",
       "    </tr>\n",
       "    <tr>\n",
       "      <th>2</th>\n",
       "      <td>008f63e3</td>\n",
       "      <td>0</td>\n",
       "      <td>\"America's love affair with it's vehicles seem...</td>\n",
       "      <td>0</td>\n",
       "    </tr>\n",
       "    <tr>\n",
       "      <th>3</th>\n",
       "      <td>00940276</td>\n",
       "      <td>0</td>\n",
       "      <td>How often do you ride in a car? Do you drive a...</td>\n",
       "      <td>0</td>\n",
       "    </tr>\n",
       "    <tr>\n",
       "      <th>4</th>\n",
       "      <td>00c39458</td>\n",
       "      <td>0</td>\n",
       "      <td>Cars are a wonderful thing. They are perhaps o...</td>\n",
       "      <td>0</td>\n",
       "    </tr>\n",
       "  </tbody>\n",
       "</table>\n",
       "</div>"
      ],
      "text/plain": [
       "         id  prompt_id                                               text  \\\n",
       "0  0059830c          0  Cars. Cars have been around since they became ...   \n",
       "1  005db917          0  Transportation is a large necessity in most co...   \n",
       "2  008f63e3          0  \"America's love affair with it's vehicles seem...   \n",
       "3  00940276          0  How often do you ride in a car? Do you drive a...   \n",
       "4  00c39458          0  Cars are a wonderful thing. They are perhaps o...   \n",
       "\n",
       "   generated  \n",
       "0          0  \n",
       "1          0  \n",
       "2          0  \n",
       "3          0  \n",
       "4          0  "
      ]
     },
     "execution_count": 10,
     "metadata": {},
     "output_type": "execute_result"
    }
   ],
   "source": [
    "val.head()"
   ]
  },
  {
   "cell_type": "code",
   "execution_count": 11,
   "id": "4d7e384f",
   "metadata": {
    "execution": {
     "iopub.execute_input": "2023-12-24T20:00:25.586731Z",
     "iopub.status.busy": "2023-12-24T20:00:25.586284Z",
     "iopub.status.idle": "2023-12-24T20:00:42.175220Z",
     "shell.execute_reply": "2023-12-24T20:00:42.174398Z"
    },
    "papermill": {
     "duration": 16.602042,
     "end_time": "2023-12-24T20:00:42.177598",
     "exception": false,
     "start_time": "2023-12-24T20:00:25.575556",
     "status": "completed"
    },
    "tags": []
   },
   "outputs": [
    {
     "name": "stderr",
     "output_type": "stream",
     "text": [
      "/opt/conda/lib/python3.10/site-packages/scipy/__init__.py:146: UserWarning: A NumPy version >=1.16.5 and <1.23.0 is required for this version of SciPy (detected version 1.24.3\n",
      "  warnings.warn(f\"A NumPy version >={np_minversion} and <{np_maxversion}\"\n"
     ]
    }
   ],
   "source": [
    "from sklearn.model_selection import train_test_split\n",
    "from transformers import AutoTokenizer, AutoModelForSequenceClassification, Trainer, TrainingArguments\n",
    "from sklearn.metrics import accuracy_score\n",
    "import torch"
   ]
  },
  {
   "cell_type": "code",
   "execution_count": 12,
   "id": "ef980c75",
   "metadata": {
    "execution": {
     "iopub.execute_input": "2023-12-24T20:00:42.199019Z",
     "iopub.status.busy": "2023-12-24T20:00:42.198392Z",
     "iopub.status.idle": "2023-12-24T20:00:42.863986Z",
     "shell.execute_reply": "2023-12-24T20:00:42.862961Z"
    },
    "papermill": {
     "duration": 0.678873,
     "end_time": "2023-12-24T20:00:42.866524",
     "exception": false,
     "start_time": "2023-12-24T20:00:42.187651",
     "status": "completed"
    },
    "tags": []
   },
   "outputs": [],
   "source": [
    "from transformers import AutoTokenizer\n",
    "\n",
    "# Load tokenizer and model\n",
    "tokenizer = AutoTokenizer.from_pretrained(\"/kaggle/input/tokenizer/tokenizer\")"
   ]
  },
  {
   "cell_type": "code",
   "execution_count": 13,
   "id": "689ffd41",
   "metadata": {
    "execution": {
     "iopub.execute_input": "2023-12-24T20:00:42.887314Z",
     "iopub.status.busy": "2023-12-24T20:00:42.886994Z",
     "iopub.status.idle": "2023-12-24T20:00:42.891050Z",
     "shell.execute_reply": "2023-12-24T20:00:42.890182Z"
    },
    "papermill": {
     "duration": 0.016437,
     "end_time": "2023-12-24T20:00:42.892942",
     "exception": false,
     "start_time": "2023-12-24T20:00:42.876505",
     "status": "completed"
    },
    "tags": []
   },
   "outputs": [],
   "source": [
    "# Load tokenizer and model\n",
    "# tokenizer = AutoTokenizer.from_pretrained(\"andreas122001/bloomz-560m-mixed-detector\")\n",
    "# model = AutoModelForSequenceClassification.from_pretrained(\"andreas122001/bloomz-560m-mixed-detector\")"
   ]
  },
  {
   "cell_type": "code",
   "execution_count": 14,
   "id": "eb233760",
   "metadata": {
    "execution": {
     "iopub.execute_input": "2023-12-24T20:00:42.913004Z",
     "iopub.status.busy": "2023-12-24T20:00:42.912718Z",
     "iopub.status.idle": "2023-12-24T20:00:42.939883Z",
     "shell.execute_reply": "2023-12-24T20:00:42.939220Z"
    },
    "papermill": {
     "duration": 0.039329,
     "end_time": "2023-12-24T20:00:42.941784",
     "exception": false,
     "start_time": "2023-12-24T20:00:42.902455",
     "status": "completed"
    },
    "tags": []
   },
   "outputs": [],
   "source": [
    "max_length = 512\n",
    "#Tokenize the datasets with the specified maximum length\n",
    "# train_encodings = tokenizer(train['text'].tolist(), truncation=True, padding=True, max_length=max_length, return_tensors='pt')\n",
    "# eval_encodings = tokenizer(val['text'].tolist(), truncation=True, padding=True, max_length=max_length, return_tensors='pt')\n",
    "test_encodings = tokenizer(test['text'].tolist(), truncation=True, padding=True, max_length=max_length, return_tensors='pt')"
   ]
  },
  {
   "cell_type": "code",
   "execution_count": 15,
   "id": "5e3be53a",
   "metadata": {
    "execution": {
     "iopub.execute_input": "2023-12-24T20:00:42.961933Z",
     "iopub.status.busy": "2023-12-24T20:00:42.961641Z",
     "iopub.status.idle": "2023-12-24T20:00:42.965577Z",
     "shell.execute_reply": "2023-12-24T20:00:42.964740Z"
    },
    "papermill": {
     "duration": 0.016192,
     "end_time": "2023-12-24T20:00:42.967455",
     "exception": false,
     "start_time": "2023-12-24T20:00:42.951263",
     "status": "completed"
    },
    "tags": []
   },
   "outputs": [],
   "source": [
    "# Convert labels to tensors\n",
    "# train_labels = torch.tensor(train['generated'].tolist())\n",
    "# eval_labels = torch.tensor(val['generated'].tolist())\n",
    "test_labels = [0]*len(test)"
   ]
  },
  {
   "cell_type": "code",
   "execution_count": 16,
   "id": "14433f39",
   "metadata": {
    "execution": {
     "iopub.execute_input": "2023-12-24T20:00:42.987743Z",
     "iopub.status.busy": "2023-12-24T20:00:42.986985Z",
     "iopub.status.idle": "2023-12-24T20:00:42.992969Z",
     "shell.execute_reply": "2023-12-24T20:00:42.992277Z"
    },
    "papermill": {
     "duration": 0.017953,
     "end_time": "2023-12-24T20:00:42.994789",
     "exception": false,
     "start_time": "2023-12-24T20:00:42.976836",
     "status": "completed"
    },
    "tags": []
   },
   "outputs": [],
   "source": [
    "# Create PyTorch datasets\n",
    "class Dataset(torch.utils.data.Dataset):\n",
    "    def __init__(self, encodings, labels):\n",
    "        self.encodings = encodings\n",
    "        self.labels = labels\n",
    "\n",
    "    def __getitem__(self, idx):\n",
    "        item = {key: val[idx] for key, val in self.encodings.items()}\n",
    "        item['labels'] = torch.tensor(self.labels[idx])\n",
    "        return item\n",
    "\n",
    "    def __len__(self):\n",
    "        return len(self.labels)\n",
    "    \n",
    "# train_dataset = Dataset(train_encodings, train_labels)\n",
    "# eval_dataset = Dataset(eval_encodings, eval_labels)\n",
    "test_dataset = Dataset(test_encodings, test_labels)"
   ]
  },
  {
   "cell_type": "code",
   "execution_count": 17,
   "id": "1fddc4cd",
   "metadata": {
    "execution": {
     "iopub.execute_input": "2023-12-24T20:00:43.014964Z",
     "iopub.status.busy": "2023-12-24T20:00:43.014663Z",
     "iopub.status.idle": "2023-12-24T20:00:43.018368Z",
     "shell.execute_reply": "2023-12-24T20:00:43.017577Z"
    },
    "papermill": {
     "duration": 0.015907,
     "end_time": "2023-12-24T20:00:43.020261",
     "exception": false,
     "start_time": "2023-12-24T20:00:43.004354",
     "status": "completed"
    },
    "tags": []
   },
   "outputs": [],
   "source": [
    "# # Define training arguments\n",
    "# training_args = TrainingArguments(\n",
    "#     output_dir=\"./finetuned_model\",\n",
    "#     per_device_train_batch_size=4,\n",
    "#     per_device_eval_batch_size=4,\n",
    "#     num_train_epochs=1,\n",
    "#     save_steps=500,\n",
    "#     save_total_limit=2,\n",
    "#     learning_rate=2e-5,\n",
    "#     report_to=[]\n",
    "# )"
   ]
  },
  {
   "cell_type": "code",
   "execution_count": 18,
   "id": "3d99422a",
   "metadata": {
    "execution": {
     "iopub.execute_input": "2023-12-24T20:00:43.040080Z",
     "iopub.status.busy": "2023-12-24T20:00:43.039817Z",
     "iopub.status.idle": "2023-12-24T20:00:43.043537Z",
     "shell.execute_reply": "2023-12-24T20:00:43.042715Z"
    },
    "papermill": {
     "duration": 0.01591,
     "end_time": "2023-12-24T20:00:43.045456",
     "exception": false,
     "start_time": "2023-12-24T20:00:43.029546",
     "status": "completed"
    },
    "tags": []
   },
   "outputs": [],
   "source": [
    "# # Define Trainer\n",
    "# trainer = Trainer(\n",
    "#     model=model,\n",
    "#     args=training_args,\n",
    "#     train_dataset=train_dataset,\n",
    "#     eval_dataset=eval_dataset\n",
    "# )"
   ]
  },
  {
   "cell_type": "code",
   "execution_count": 19,
   "id": "8a25a77b",
   "metadata": {
    "execution": {
     "iopub.execute_input": "2023-12-24T20:00:43.065343Z",
     "iopub.status.busy": "2023-12-24T20:00:43.065101Z",
     "iopub.status.idle": "2023-12-24T20:00:43.068372Z",
     "shell.execute_reply": "2023-12-24T20:00:43.067585Z"
    },
    "papermill": {
     "duration": 0.015208,
     "end_time": "2023-12-24T20:00:43.070133",
     "exception": false,
     "start_time": "2023-12-24T20:00:43.054925",
     "status": "completed"
    },
    "tags": []
   },
   "outputs": [],
   "source": [
    "# # Fine-tune the model\n",
    "# trainer.train()"
   ]
  },
  {
   "cell_type": "code",
   "execution_count": 20,
   "id": "6b2d9de7",
   "metadata": {
    "execution": {
     "iopub.execute_input": "2023-12-24T20:00:43.089904Z",
     "iopub.status.busy": "2023-12-24T20:00:43.089610Z",
     "iopub.status.idle": "2023-12-24T20:00:43.093147Z",
     "shell.execute_reply": "2023-12-24T20:00:43.092435Z"
    },
    "papermill": {
     "duration": 0.015467,
     "end_time": "2023-12-24T20:00:43.094998",
     "exception": false,
     "start_time": "2023-12-24T20:00:43.079531",
     "status": "completed"
    },
    "tags": []
   },
   "outputs": [],
   "source": [
    "# # Save the fine-tuned model\n",
    "# model.save_pretrained(\"./finetuned_model\")"
   ]
  },
  {
   "cell_type": "code",
   "execution_count": 21,
   "id": "00550f65",
   "metadata": {
    "execution": {
     "iopub.execute_input": "2023-12-24T20:00:43.114816Z",
     "iopub.status.busy": "2023-12-24T20:00:43.114533Z",
     "iopub.status.idle": "2023-12-24T20:00:59.363497Z",
     "shell.execute_reply": "2023-12-24T20:00:59.362690Z"
    },
    "papermill": {
     "duration": 16.261606,
     "end_time": "2023-12-24T20:00:59.365958",
     "exception": false,
     "start_time": "2023-12-24T20:00:43.104352",
     "status": "completed"
    },
    "tags": []
   },
   "outputs": [],
   "source": [
    "# Load the fine-tuned model\n",
    "model = AutoModelForSequenceClassification.from_pretrained(\"/kaggle/input/model-finetuned/finetuned_model\")"
   ]
  },
  {
   "cell_type": "code",
   "execution_count": 22,
   "id": "e3290c03",
   "metadata": {
    "execution": {
     "iopub.execute_input": "2023-12-24T20:00:59.387103Z",
     "iopub.status.busy": "2023-12-24T20:00:59.386411Z",
     "iopub.status.idle": "2023-12-24T20:00:59.391186Z",
     "shell.execute_reply": "2023-12-24T20:00:59.390337Z"
    },
    "papermill": {
     "duration": 0.017352,
     "end_time": "2023-12-24T20:00:59.393162",
     "exception": false,
     "start_time": "2023-12-24T20:00:59.375810",
     "status": "completed"
    },
    "tags": []
   },
   "outputs": [],
   "source": [
    "# Create PyTorch dataloaders\n",
    "test_dataloader = torch.utils.data.DataLoader(test_dataset, batch_size=32, shuffle=False)"
   ]
  },
  {
   "cell_type": "code",
   "execution_count": 23,
   "id": "16503c1a",
   "metadata": {
    "execution": {
     "iopub.execute_input": "2023-12-24T20:00:59.413183Z",
     "iopub.status.busy": "2023-12-24T20:00:59.412907Z",
     "iopub.status.idle": "2023-12-24T20:00:59.422600Z",
     "shell.execute_reply": "2023-12-24T20:00:59.421083Z"
    },
    "papermill": {
     "duration": 0.022235,
     "end_time": "2023-12-24T20:00:59.424844",
     "exception": false,
     "start_time": "2023-12-24T20:00:59.402609",
     "status": "completed"
    },
    "tags": []
   },
   "outputs": [
    {
     "data": {
      "text/plain": [
       "BloomForSequenceClassification(\n",
       "  (transformer): BloomModel(\n",
       "    (word_embeddings): Embedding(250880, 1024)\n",
       "    (word_embeddings_layernorm): LayerNorm((1024,), eps=1e-05, elementwise_affine=True)\n",
       "    (h): ModuleList(\n",
       "      (0-23): 24 x BloomBlock(\n",
       "        (input_layernorm): LayerNorm((1024,), eps=1e-05, elementwise_affine=True)\n",
       "        (self_attention): BloomAttention(\n",
       "          (query_key_value): Linear(in_features=1024, out_features=3072, bias=True)\n",
       "          (dense): Linear(in_features=1024, out_features=1024, bias=True)\n",
       "          (attention_dropout): Dropout(p=0.0, inplace=False)\n",
       "        )\n",
       "        (post_attention_layernorm): LayerNorm((1024,), eps=1e-05, elementwise_affine=True)\n",
       "        (mlp): BloomMLP(\n",
       "          (dense_h_to_4h): Linear(in_features=1024, out_features=4096, bias=True)\n",
       "          (gelu_impl): BloomGelu()\n",
       "          (dense_4h_to_h): Linear(in_features=4096, out_features=1024, bias=True)\n",
       "        )\n",
       "      )\n",
       "    )\n",
       "    (ln_f): LayerNorm((1024,), eps=1e-05, elementwise_affine=True)\n",
       "  )\n",
       "  (score): Linear(in_features=1024, out_features=2, bias=False)\n",
       ")"
      ]
     },
     "execution_count": 23,
     "metadata": {},
     "output_type": "execute_result"
    }
   ],
   "source": [
    "# Put the model in evaluation mode\n",
    "model.eval()"
   ]
  },
  {
   "cell_type": "code",
   "execution_count": 24,
   "id": "32b328d3",
   "metadata": {
    "execution": {
     "iopub.execute_input": "2023-12-24T20:00:59.445284Z",
     "iopub.status.busy": "2023-12-24T20:00:59.445030Z",
     "iopub.status.idle": "2023-12-24T20:01:04.892901Z",
     "shell.execute_reply": "2023-12-24T20:01:04.891897Z"
    },
    "papermill": {
     "duration": 5.460426,
     "end_time": "2023-12-24T20:01:04.895060",
     "exception": false,
     "start_time": "2023-12-24T20:00:59.434634",
     "status": "completed"
    },
    "tags": []
   },
   "outputs": [
    {
     "data": {
      "text/plain": [
       "BloomForSequenceClassification(\n",
       "  (transformer): BloomModel(\n",
       "    (word_embeddings): Embedding(250880, 1024)\n",
       "    (word_embeddings_layernorm): LayerNorm((1024,), eps=1e-05, elementwise_affine=True)\n",
       "    (h): ModuleList(\n",
       "      (0-23): 24 x BloomBlock(\n",
       "        (input_layernorm): LayerNorm((1024,), eps=1e-05, elementwise_affine=True)\n",
       "        (self_attention): BloomAttention(\n",
       "          (query_key_value): Linear(in_features=1024, out_features=3072, bias=True)\n",
       "          (dense): Linear(in_features=1024, out_features=1024, bias=True)\n",
       "          (attention_dropout): Dropout(p=0.0, inplace=False)\n",
       "        )\n",
       "        (post_attention_layernorm): LayerNorm((1024,), eps=1e-05, elementwise_affine=True)\n",
       "        (mlp): BloomMLP(\n",
       "          (dense_h_to_4h): Linear(in_features=1024, out_features=4096, bias=True)\n",
       "          (gelu_impl): BloomGelu()\n",
       "          (dense_4h_to_h): Linear(in_features=4096, out_features=1024, bias=True)\n",
       "        )\n",
       "      )\n",
       "    )\n",
       "    (ln_f): LayerNorm((1024,), eps=1e-05, elementwise_affine=True)\n",
       "  )\n",
       "  (score): Linear(in_features=1024, out_features=2, bias=False)\n",
       ")"
      ]
     },
     "execution_count": 24,
     "metadata": {},
     "output_type": "execute_result"
    }
   ],
   "source": [
    "# Define the device\n",
    "device = torch.device('cuda' if torch.cuda.is_available() else 'cpu')\n",
    "\n",
    "# Move the model to the device\n",
    "model.to(device)"
   ]
  },
  {
   "cell_type": "code",
   "execution_count": 25,
   "id": "674de46d",
   "metadata": {
    "execution": {
     "iopub.execute_input": "2023-12-24T20:01:04.960947Z",
     "iopub.status.busy": "2023-12-24T20:01:04.960563Z",
     "iopub.status.idle": "2023-12-24T20:01:06.598670Z",
     "shell.execute_reply": "2023-12-24T20:01:06.597728Z"
    },
    "papermill": {
     "duration": 1.695316,
     "end_time": "2023-12-24T20:01:06.600918",
     "exception": false,
     "start_time": "2023-12-24T20:01:04.905602",
     "status": "completed"
    },
    "tags": []
   },
   "outputs": [
    {
     "data": {
      "text/plain": [
       "array([0, 0, 0])"
      ]
     },
     "execution_count": 25,
     "metadata": {},
     "output_type": "execute_result"
    }
   ],
   "source": [
    "import torch.nn.functional as F\n",
    "import numpy as np\n",
    "# Lists to store predictions and true labels\n",
    "all_predictions = []\n",
    "all_true_labels = []\n",
    "\n",
    "# Iterate over the test dataset batches\n",
    "for batch in test_dataloader:\n",
    "    # Move input tensors to the device (e.g., GPU if available)\n",
    "    input_ids = batch['input_ids'].to(device)\n",
    "    attention_mask = batch['attention_mask'].to(device)\n",
    "\n",
    "    # Make predictions\n",
    "    with torch.no_grad():\n",
    "        logits = model(input_ids, attention_mask=attention_mask).logits\n",
    "\n",
    "    # Apply softmax to get probabilities\n",
    "    probabilities = F.softmax(logits, dim=1)\n",
    "\n",
    "    # Assuming binary classification, extract probability for the positive class (generated)\n",
    "    generated_probabilities = probabilities[:, 1].cpu().numpy()\n",
    "\n",
    "    # Append predictions and true labels to the lists\n",
    "    all_predictions.extend(generated_probabilities)\n",
    "    all_true_labels.extend(batch['labels'].numpy())\n",
    "\n",
    "# Convert the lists to NumPy arrays\n",
    "all_predictions = np.array(all_predictions)\n",
    "all_true_labels = np.array(all_true_labels)\n",
    "\n",
    "all_true_labels"
   ]
  },
  {
   "cell_type": "code",
   "execution_count": 26,
   "id": "623b7ebd",
   "metadata": {
    "execution": {
     "iopub.execute_input": "2023-12-24T20:01:06.622637Z",
     "iopub.status.busy": "2023-12-24T20:01:06.622365Z",
     "iopub.status.idle": "2023-12-24T20:01:06.634730Z",
     "shell.execute_reply": "2023-12-24T20:01:06.633918Z"
    },
    "papermill": {
     "duration": 0.025243,
     "end_time": "2023-12-24T20:01:06.636555",
     "exception": false,
     "start_time": "2023-12-24T20:01:06.611312",
     "status": "completed"
    },
    "tags": []
   },
   "outputs": [
    {
     "data": {
      "text/html": [
       "<div>\n",
       "<style scoped>\n",
       "    .dataframe tbody tr th:only-of-type {\n",
       "        vertical-align: middle;\n",
       "    }\n",
       "\n",
       "    .dataframe tbody tr th {\n",
       "        vertical-align: top;\n",
       "    }\n",
       "\n",
       "    .dataframe thead th {\n",
       "        text-align: right;\n",
       "    }\n",
       "</style>\n",
       "<table border=\"1\" class=\"dataframe\">\n",
       "  <thead>\n",
       "    <tr style=\"text-align: right;\">\n",
       "      <th></th>\n",
       "      <th>id</th>\n",
       "      <th>generated</th>\n",
       "    </tr>\n",
       "  </thead>\n",
       "  <tbody>\n",
       "    <tr>\n",
       "      <th>0</th>\n",
       "      <td>0000aaaa</td>\n",
       "      <td>0</td>\n",
       "    </tr>\n",
       "    <tr>\n",
       "      <th>1</th>\n",
       "      <td>1111bbbb</td>\n",
       "      <td>0</td>\n",
       "    </tr>\n",
       "    <tr>\n",
       "      <th>2</th>\n",
       "      <td>2222cccc</td>\n",
       "      <td>0</td>\n",
       "    </tr>\n",
       "  </tbody>\n",
       "</table>\n",
       "</div>"
      ],
      "text/plain": [
       "         id  generated\n",
       "0  0000aaaa          0\n",
       "1  1111bbbb          0\n",
       "2  2222cccc          0"
      ]
     },
     "execution_count": 26,
     "metadata": {},
     "output_type": "execute_result"
    }
   ],
   "source": [
    "sub['generated'] = all_true_labels\n",
    "sub.to_csv('submission.csv', index=False)\n",
    "sub"
   ]
  },
  {
   "cell_type": "code",
   "execution_count": null,
   "id": "8fc6a8e2",
   "metadata": {
    "papermill": {
     "duration": 0.010021,
     "end_time": "2023-12-24T20:01:06.656761",
     "exception": false,
     "start_time": "2023-12-24T20:01:06.646740",
     "status": "completed"
    },
    "tags": []
   },
   "outputs": [],
   "source": []
  }
 ],
 "metadata": {
  "kaggle": {
   "accelerator": "gpu",
   "dataSources": [
    {
     "databundleVersionId": 6888007,
     "sourceId": 61542,
     "sourceType": "competition"
    },
    {
     "datasetId": 4005256,
     "sourceId": 6977472,
     "sourceType": "datasetVersion"
    },
    {
     "datasetId": 4101275,
     "sourceId": 7112464,
     "sourceType": "datasetVersion"
    },
    {
     "datasetId": 4215524,
     "sourceId": 7271844,
     "sourceType": "datasetVersion"
    },
    {
     "datasetId": 4217048,
     "sourceId": 7274043,
     "sourceType": "datasetVersion"
    }
   ],
   "dockerImageVersionId": 30627,
   "isGpuEnabled": true,
   "isInternetEnabled": false,
   "language": "python",
   "sourceType": "notebook"
  },
  "kernelspec": {
   "display_name": "Python 3",
   "language": "python",
   "name": "python3"
  },
  "language_info": {
   "codemirror_mode": {
    "name": "ipython",
    "version": 3
   },
   "file_extension": ".py",
   "mimetype": "text/x-python",
   "name": "python",
   "nbconvert_exporter": "python",
   "pygments_lexer": "ipython3",
   "version": "3.10.12"
  },
  "papermill": {
   "default_parameters": {},
   "duration": 243.638111,
   "end_time": "2023-12-24T20:01:09.961381",
   "environment_variables": {},
   "exception": null,
   "input_path": "__notebook__.ipynb",
   "output_path": "__notebook__.ipynb",
   "parameters": {},
   "start_time": "2023-12-24T19:57:06.323270",
   "version": "2.4.0"
  }
 },
 "nbformat": 4,
 "nbformat_minor": 5
}
